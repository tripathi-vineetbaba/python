{
 "cells": [
  {
   "cell_type": "code",
   "execution_count": 1,
   "metadata": {
    "collapsed": true
   },
   "outputs": [],
   "source": [
    "import numpy as np\n",
    "from numpy import dtype\n"
   ]
  },
  {
   "cell_type": "code",
   "execution_count": 2,
   "metadata": {
    "collapsed": true
   },
   "outputs": [],
   "source": [
    "b = np.ones( (2,3), dtype=np.int16)    "
   ]
  },
  {
   "cell_type": "code",
   "execution_count": 3,
   "metadata": {
    "collapsed": false
   },
   "outputs": [
    {
     "name": "stdout",
     "output_type": "stream",
     "text": [
      "[[1 1 1]\n",
      " [1 1 1]]\n"
     ]
    }
   ],
   "source": [
    "print b"
   ]
  },
  {
   "cell_type": "markdown",
   "metadata": {},
   "source": [
    "# Multiple Dimensional Array"
   ]
  },
  {
   "cell_type": "code",
   "execution_count": 7,
   "metadata": {
    "collapsed": true
   },
   "outputs": [],
   "source": [
    "b = np.ones((3,2,2,3,4), dtype=np.int16) "
   ]
  },
  {
   "cell_type": "code",
   "execution_count": 8,
   "metadata": {
    "collapsed": false
   },
   "outputs": [
    {
     "name": "stdout",
     "output_type": "stream",
     "text": [
      "[[[[[1 1 1 1]\n",
      "    [1 1 1 1]\n",
      "    [1 1 1 1]]\n",
      "\n",
      "   [[1 1 1 1]\n",
      "    [1 1 1 1]\n",
      "    [1 1 1 1]]]\n",
      "\n",
      "\n",
      "  [[[1 1 1 1]\n",
      "    [1 1 1 1]\n",
      "    [1 1 1 1]]\n",
      "\n",
      "   [[1 1 1 1]\n",
      "    [1 1 1 1]\n",
      "    [1 1 1 1]]]]\n",
      "\n",
      "\n",
      "\n",
      " [[[[1 1 1 1]\n",
      "    [1 1 1 1]\n",
      "    [1 1 1 1]]\n",
      "\n",
      "   [[1 1 1 1]\n",
      "    [1 1 1 1]\n",
      "    [1 1 1 1]]]\n",
      "\n",
      "\n",
      "  [[[1 1 1 1]\n",
      "    [1 1 1 1]\n",
      "    [1 1 1 1]]\n",
      "\n",
      "   [[1 1 1 1]\n",
      "    [1 1 1 1]\n",
      "    [1 1 1 1]]]]\n",
      "\n",
      "\n",
      "\n",
      " [[[[1 1 1 1]\n",
      "    [1 1 1 1]\n",
      "    [1 1 1 1]]\n",
      "\n",
      "   [[1 1 1 1]\n",
      "    [1 1 1 1]\n",
      "    [1 1 1 1]]]\n",
      "\n",
      "\n",
      "  [[[1 1 1 1]\n",
      "    [1 1 1 1]\n",
      "    [1 1 1 1]]\n",
      "\n",
      "   [[1 1 1 1]\n",
      "    [1 1 1 1]\n",
      "    [1 1 1 1]]]]]\n"
     ]
    }
   ],
   "source": [
    "print b"
   ]
  },
  {
   "cell_type": "code",
   "execution_count": null,
   "metadata": {
    "collapsed": true
   },
   "outputs": [],
   "source": []
  }
 ],
 "metadata": {
  "kernelspec": {
   "display_name": "Python 2",
   "language": "python",
   "name": "python2"
  },
  "language_info": {
   "codemirror_mode": {
    "name": "ipython",
    "version": 2
   },
   "file_extension": ".py",
   "mimetype": "text/x-python",
   "name": "python",
   "nbconvert_exporter": "python",
   "pygments_lexer": "ipython2",
   "version": "2.7.6"
  }
 },
 "nbformat": 4,
 "nbformat_minor": 2
}
