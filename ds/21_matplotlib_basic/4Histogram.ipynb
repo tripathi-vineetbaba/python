{
 "cells": [
  {
   "cell_type": "code",
   "execution_count": 1,
   "metadata": {},
   "outputs": [],
   "source": [
    "import numpy as np\n",
    "import matplotlib.pyplot as plt\n",
    "\n"
   ]
  },
  {
   "cell_type": "code",
   "execution_count": 2,
   "metadata": {},
   "outputs": [],
   "source": [
    "age = 40 + np.floor(60*np.random.rand(100))\n",
    "age_bins = [40,50,60,70,80,80,100]\n",
    "\n"
   ]
  },
  {
   "cell_type": "code",
   "execution_count": 3,
   "metadata": {},
   "outputs": [
    {
     "name": "stdout",
     "output_type": "stream",
     "text": [
      "[ 77.  41.  85.  79.  60.  96.  62.  50.  49.  81.  81.  83.  80.  87.  45.\n",
      "  60.  75.  43.  67.  64.  61.  91.  72.  41.  94.  86.  57.  66.  88.  93.\n",
      "  92.  52.  59.  85.  87.  99.  79.  42.  43.  82.  48.  79.  76.  40.  41.\n",
      "  95.  48.  57.  41.  80.  76.  86.  84.  65.  54.  98.  44.  95.  89.  97.\n",
      "  98.  52.  85.  85.  83.  61.  79.  74.  41.  96.  43.  94.  53.  73.  52.\n",
      "  49.  61.  87.  51.  60.  98.  40.  85.  85.  93.  41.  50.  47.  75.  63.\n",
      "  83.  54.  88.  53.  70.  51.  53.  58.  62.  47.]\n"
     ]
    }
   ],
   "source": [
    "print age\n",
    "\n"
   ]
  },
  {
   "cell_type": "code",
   "execution_count": 4,
   "metadata": {},
   "outputs": [
    {
     "data": {
      "image/png": "[encoded data removed]",
      "text/plain": [
       "<matplotlib.figure.Figure at 0x7f1b75a66dd0>"
      ]
     },
     "metadata": {},
     "output_type": "display_data"
    }
   ],
   "source": [
    "plt.hist(age, age_bins)\n",
    "plt.show()"
   ]
  },
  {
   "cell_type": "code",
   "execution_count": null,
   "metadata": {},
   "outputs": [],
   "source": []
  },
  {
   "cell_type": "code",
   "execution_count": null,
   "metadata": {},
   "outputs": [],
   "source": []
  },
  {
   "cell_type": "code",
   "execution_count": null,
   "metadata": {},
   "outputs": [],
   "source": []
  },
  {
   "cell_type": "code",
   "execution_count": null,
   "metadata": {},
   "outputs": [],
   "source": []
  }
 ],
 "metadata": {
  "kernelspec": {
   "display_name": "Python 2",
   "language": "python",
   "name": "python2"
  },
  "language_info": {
   "codemirror_mode": {
    "name": "ipython",
    "version": 2
   },
   "file_extension": ".py",
   "mimetype": "text/x-python",
   "name": "python",
   "nbconvert_exporter": "python",
   "pygments_lexer": "ipython2",
   "version": "2.7.6"
  }
 },
 "nbformat": 4,
 "nbformat_minor": 2
}
